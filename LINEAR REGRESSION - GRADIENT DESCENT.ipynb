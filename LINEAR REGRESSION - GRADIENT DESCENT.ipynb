{
 "cells": [
  {
   "cell_type": "code",
   "execution_count": 1,
   "id": "bc8640f8",
   "metadata": {},
   "outputs": [],
   "source": [
    "import numpy as np\n",
    "import pandas as pd\n",
    "import matplotlib.pyplot as plt\n",
    "import seaborn as sns\n",
    "\n",
    "import warnings\n",
    "warnings.filterwarnings(\"ignore\")"
   ]
  },
  {
   "cell_type": "code",
   "execution_count": 2,
   "id": "35b82c05",
   "metadata": {},
   "outputs": [],
   "source": [
    "#IMPORTING DATASET\n",
    "advertising = pd.read_csv(\"Advertising.csv\")"
   ]
  },
  {
   "cell_type": "code",
   "execution_count": 3,
   "id": "e4c9ca65",
   "metadata": {},
   "outputs": [
    {
     "data": {
      "text/html": [
       "<div>\n",
       "<style scoped>\n",
       "    .dataframe tbody tr th:only-of-type {\n",
       "        vertical-align: middle;\n",
       "    }\n",
       "\n",
       "    .dataframe tbody tr th {\n",
       "        vertical-align: top;\n",
       "    }\n",
       "\n",
       "    .dataframe thead th {\n",
       "        text-align: right;\n",
       "    }\n",
       "</style>\n",
       "<table border=\"1\" class=\"dataframe\">\n",
       "  <thead>\n",
       "    <tr style=\"text-align: right;\">\n",
       "      <th></th>\n",
       "      <th>Unnamed: 0</th>\n",
       "      <th>TV</th>\n",
       "      <th>Radio</th>\n",
       "      <th>Newspaper</th>\n",
       "      <th>Sales</th>\n",
       "    </tr>\n",
       "  </thead>\n",
       "  <tbody>\n",
       "    <tr>\n",
       "      <th>0</th>\n",
       "      <td>1</td>\n",
       "      <td>230.1</td>\n",
       "      <td>37.8</td>\n",
       "      <td>69.2</td>\n",
       "      <td>22.1</td>\n",
       "    </tr>\n",
       "    <tr>\n",
       "      <th>1</th>\n",
       "      <td>2</td>\n",
       "      <td>44.5</td>\n",
       "      <td>39.3</td>\n",
       "      <td>45.1</td>\n",
       "      <td>10.4</td>\n",
       "    </tr>\n",
       "    <tr>\n",
       "      <th>2</th>\n",
       "      <td>3</td>\n",
       "      <td>17.2</td>\n",
       "      <td>45.9</td>\n",
       "      <td>69.3</td>\n",
       "      <td>9.3</td>\n",
       "    </tr>\n",
       "    <tr>\n",
       "      <th>3</th>\n",
       "      <td>4</td>\n",
       "      <td>151.5</td>\n",
       "      <td>41.3</td>\n",
       "      <td>58.5</td>\n",
       "      <td>18.5</td>\n",
       "    </tr>\n",
       "    <tr>\n",
       "      <th>4</th>\n",
       "      <td>5</td>\n",
       "      <td>180.8</td>\n",
       "      <td>10.8</td>\n",
       "      <td>58.4</td>\n",
       "      <td>12.9</td>\n",
       "    </tr>\n",
       "    <tr>\n",
       "      <th>...</th>\n",
       "      <td>...</td>\n",
       "      <td>...</td>\n",
       "      <td>...</td>\n",
       "      <td>...</td>\n",
       "      <td>...</td>\n",
       "    </tr>\n",
       "    <tr>\n",
       "      <th>195</th>\n",
       "      <td>196</td>\n",
       "      <td>38.2</td>\n",
       "      <td>3.7</td>\n",
       "      <td>13.8</td>\n",
       "      <td>7.6</td>\n",
       "    </tr>\n",
       "    <tr>\n",
       "      <th>196</th>\n",
       "      <td>197</td>\n",
       "      <td>94.2</td>\n",
       "      <td>4.9</td>\n",
       "      <td>8.1</td>\n",
       "      <td>9.7</td>\n",
       "    </tr>\n",
       "    <tr>\n",
       "      <th>197</th>\n",
       "      <td>198</td>\n",
       "      <td>177.0</td>\n",
       "      <td>9.3</td>\n",
       "      <td>6.4</td>\n",
       "      <td>12.8</td>\n",
       "    </tr>\n",
       "    <tr>\n",
       "      <th>198</th>\n",
       "      <td>199</td>\n",
       "      <td>283.6</td>\n",
       "      <td>42.0</td>\n",
       "      <td>66.2</td>\n",
       "      <td>25.5</td>\n",
       "    </tr>\n",
       "    <tr>\n",
       "      <th>199</th>\n",
       "      <td>200</td>\n",
       "      <td>232.1</td>\n",
       "      <td>8.6</td>\n",
       "      <td>8.7</td>\n",
       "      <td>13.4</td>\n",
       "    </tr>\n",
       "  </tbody>\n",
       "</table>\n",
       "<p>200 rows × 5 columns</p>\n",
       "</div>"
      ],
      "text/plain": [
       "     Unnamed: 0     TV  Radio  Newspaper  Sales\n",
       "0             1  230.1   37.8       69.2   22.1\n",
       "1             2   44.5   39.3       45.1   10.4\n",
       "2             3   17.2   45.9       69.3    9.3\n",
       "3             4  151.5   41.3       58.5   18.5\n",
       "4             5  180.8   10.8       58.4   12.9\n",
       "..          ...    ...    ...        ...    ...\n",
       "195         196   38.2    3.7       13.8    7.6\n",
       "196         197   94.2    4.9        8.1    9.7\n",
       "197         198  177.0    9.3        6.4   12.8\n",
       "198         199  283.6   42.0       66.2   25.5\n",
       "199         200  232.1    8.6        8.7   13.4\n",
       "\n",
       "[200 rows x 5 columns]"
      ]
     },
     "execution_count": 3,
     "metadata": {},
     "output_type": "execute_result"
    }
   ],
   "source": [
    "advertising"
   ]
  },
  {
   "cell_type": "code",
   "execution_count": 4,
   "id": "30a5b121",
   "metadata": {},
   "outputs": [
    {
     "data": {
      "text/plain": [
       "<AxesSubplot:>"
      ]
     },
     "execution_count": 4,
     "metadata": {},
     "output_type": "execute_result"
    },
    {
     "data": {
      "image/png": "[encoded data removed]",
      "text/plain": [
       "<Figure size 432x288 with 2 Axes>"
      ]
     },
     "metadata": {
      "needs_background": "light"
     },
     "output_type": "display_data"
    }
   ],
   "source": [
    "#HEATMAP FOR CORRELATION\n",
    "sns.heatmap(advertising.corr(),cmap='magma',annot=True)"
   ]
  },
  {
   "cell_type": "markdown",
   "id": "88366112",
   "metadata": {},
   "source": [
    "# FOR TV ONLY"
   ]
  },
  {
   "cell_type": "code",
   "execution_count": 5,
   "id": "b0b6130a",
   "metadata": {},
   "outputs": [],
   "source": [
    "X = advertising['TV']\n",
    "y = advertising['Sales']"
   ]
  },
  {
   "cell_type": "code",
   "execution_count": 6,
   "id": "ab657f3e",
   "metadata": {},
   "outputs": [],
   "source": [
    "from sklearn.model_selection import train_test_split\n",
    "\n",
    "X_train_tv,X_test_tv,y_train_tv,y_test_tv = train_test_split(X,y,test_size=0.3,random_state=5)"
   ]
  },
  {
   "cell_type": "code",
   "execution_count": 7,
   "id": "accbe6c5",
   "metadata": {},
   "outputs": [
    {
     "data": {
      "text/plain": [
       "170     50.0\n",
       "182     56.2\n",
       "59     210.7\n",
       "185    205.0\n",
       "12      23.8\n",
       "       ...  \n",
       "73     129.4\n",
       "144     96.2\n",
       "118    125.7\n",
       "189     18.7\n",
       "99     135.2\n",
       "Name: TV, Length: 140, dtype: float64"
      ]
     },
     "execution_count": 7,
     "metadata": {},
     "output_type": "execute_result"
    }
   ],
   "source": [
    "X_train_tv"
   ]
  },
  {
   "cell_type": "code",
   "execution_count": 8,
   "id": "cb80335c",
   "metadata": {},
   "outputs": [],
   "source": [
    "#FOR SINGLE FEATURE WE MUST RESHAPE IT\n",
    "X_train_tv = X_train_tv.values.reshape(-1,1)\n",
    "X_test_tv = X_test_tv.values.reshape(-1,1)"
   ]
  },
  {
   "cell_type": "code",
   "execution_count": 9,
   "id": "4812cb3a",
   "metadata": {},
   "outputs": [],
   "source": [
    "#IMPORTING GRADIENT DESCENT MODEL\n",
    "from sklearn.linear_model import LinearRegression"
   ]
  },
  {
   "cell_type": "code",
   "execution_count": 10,
   "id": "7da81583",
   "metadata": {},
   "outputs": [],
   "source": [
    "#INSTANTIATING OUR MODEL\n",
    "lr_model = LinearRegression()"
   ]
  },
  {
   "cell_type": "code",
   "execution_count": 11,
   "id": "9bdc9cc7",
   "metadata": {},
   "outputs": [
    {
     "data": {
      "text/plain": [
       "LinearRegression()"
      ]
     },
     "execution_count": 11,
     "metadata": {},
     "output_type": "execute_result"
    }
   ],
   "source": [
    "#FITTING TRAINING DATA TO OUR MODEL\n",
    "lr_model.fit(X_train_tv,y_train_tv)"
   ]
  },
  {
   "cell_type": "code",
   "execution_count": 12,
   "id": "3aec07f6",
   "metadata": {},
   "outputs": [
    {
     "name": "stdout",
     "output_type": "stream",
     "text": [
      "6.745302251222066\n"
     ]
    }
   ],
   "source": [
    "#INTERCEPT VALUE---C\n",
    "print(lr_model.intercept_)"
   ]
  },
  {
   "cell_type": "code",
   "execution_count": 13,
   "id": "3811a730",
   "metadata": {},
   "outputs": [
    {
     "name": "stdout",
     "output_type": "stream",
     "text": [
      "[0.05024351]\n"
     ]
    }
   ],
   "source": [
    "#CONSTANT OR SLOPE ---- M\n",
    "print(lr_model.coef_)"
   ]
  },
  {
   "cell_type": "code",
   "execution_count": 14,
   "id": "149e1bea",
   "metadata": {},
   "outputs": [],
   "source": [
    "#PREDICTIONS FOR TRAINING SET\n",
    "pred_train = lr_model.predict(X_train_tv)"
   ]
  },
  {
   "cell_type": "code",
   "execution_count": null,
   "id": "a1bd796c",
   "metadata": {},
   "outputs": [],
   "source": []
  },
  {
   "cell_type": "code",
   "execution_count": 15,
   "id": "5daa1bd4",
   "metadata": {},
   "outputs": [],
   "source": [
    "#TRAINING SET RESIDUAL\n",
    "train_error = y_train_tv - pred_train"
   ]
  },
  {
   "cell_type": "code",
   "execution_count": 16,
   "id": "bebf934b",
   "metadata": {},
   "outputs": [
    {
     "data": {
      "text/plain": [
       "170   -0.857478\n",
       "182   -0.868988\n",
       "59     1.068389\n",
       "185    5.554777\n",
       "12     1.258902\n",
       "         ...   \n",
       "73    -2.246813\n",
       "144   -0.178728\n",
       "118    2.839088\n",
       "189   -0.984856\n",
       "99     3.661775\n",
       "Name: Sales, Length: 140, dtype: float64"
      ]
     },
     "execution_count": 16,
     "metadata": {},
     "output_type": "execute_result"
    }
   ],
   "source": [
    "train_error"
   ]
  },
  {
   "cell_type": "code",
   "execution_count": 17,
   "id": "7b8b0652",
   "metadata": {},
   "outputs": [
    {
     "data": {
      "text/plain": [
       "<AxesSubplot:xlabel='Sales', ylabel='Density'>"
      ]
     },
     "execution_count": 17,
     "metadata": {},
     "output_type": "execute_result"
    },
    {
     "data": {
      "image/png": "[encoded data removed]",
      "text/plain": [
       "<Figure size 432x288 with 1 Axes>"
      ]
     },
     "metadata": {
      "needs_background": "light"
     },
     "output_type": "display_data"
    }
   ],
   "source": [
    "sns.distplot(train_error,bins=15)"
   ]
  },
  {
   "cell_type": "code",
   "execution_count": 18,
   "id": "64aa7c9b",
   "metadata": {},
   "outputs": [],
   "source": [
    "# R-SQUARED SCORE FOR TRAINING SET\n",
    "from sklearn.metrics import r2_score"
   ]
  },
  {
   "cell_type": "code",
   "execution_count": 48,
   "id": "66588f34",
   "metadata": {},
   "outputs": [
    {
     "name": "stdout",
     "output_type": "stream",
     "text": [
      "0.6411433688483876\n"
     ]
    }
   ],
   "source": [
    "r_sq_train_tv = r2_score(y_train_tv,pred_train)\n",
    "print(r_sq_train_tv)"
   ]
  },
  {
   "cell_type": "code",
   "execution_count": 20,
   "id": "ac75895c",
   "metadata": {},
   "outputs": [
    {
     "name": "stdout",
     "output_type": "stream",
     "text": [
      "10.47402465891117\n",
      "3.23635978514614\n"
     ]
    }
   ],
   "source": [
    "#RMSE\n",
    "from sklearn.metrics import mean_squared_error\n",
    "\n",
    "mse_train = mean_squared_error(y_train_tv,pred_train)\n",
    "\n",
    "print(mse_train)\n",
    "\n",
    "rmse_train = np.sqrt(mse_train)\n",
    "print(rmse_train)"
   ]
  },
  {
   "cell_type": "code",
   "execution_count": 21,
   "id": "a12270c3",
   "metadata": {},
   "outputs": [],
   "source": [
    "#PREDICTION FOR TEST SET\n",
    "pred_test = lr_model.predict(X_test_tv)"
   ]
  },
  {
   "cell_type": "code",
   "execution_count": null,
   "id": "41062524",
   "metadata": {},
   "outputs": [],
   "source": []
  },
  {
   "cell_type": "code",
   "execution_count": 47,
   "id": "eb131507",
   "metadata": {},
   "outputs": [
    {
     "name": "stdout",
     "output_type": "stream",
     "text": [
      "0.5111616978794155\n"
     ]
    }
   ],
   "source": [
    "#R-SQUARE FOR TESTING SET \n",
    "r_sq_test_tv = r2_score(y_test_tv,pred_test)\n",
    "print(r_sq_test_tv)"
   ]
  },
  {
   "cell_type": "code",
   "execution_count": 24,
   "id": "6bee05b2",
   "metadata": {},
   "outputs": [
    {
     "name": "stdout",
     "output_type": "stream",
     "text": [
      "3.2898003457568414\n"
     ]
    }
   ],
   "source": [
    "#RMSE FOR TESTING SET\n",
    "rmse_test = np.sqrt(mean_squared_error(y_test_tv,pred_test))\n",
    "print(rmse_test)"
   ]
  },
  {
   "cell_type": "code",
   "execution_count": 50,
   "id": "9e812394",
   "metadata": {},
   "outputs": [
    {
     "name": "stdout",
     "output_type": "stream",
     "text": [
      "Adjusted R-SQUARE FOR TRAINING FOR TV ONLY = 0.6385429584777238\n",
      "Adjusted R-SQUARE FOR Testing FOR TV ONLY = 0.5027334512911296\n"
     ]
    }
   ],
   "source": [
    "#ADJUSTED R-SQUARE\n",
    "\n",
    "adj_rsq_train_tv = 1-((1-r_sq_train_tv)*((len(y_train_tv)-1)/(len(y_train_tv)- (X_train_tv.shape[1]) - 1))) \n",
    "print(f\"Adjusted R-SQUARE FOR TRAINING FOR TV ONLY = {adj_rsq_train_tv}\")\n",
    "\n",
    "adj_rsq_test_tv = 1-((1-r_sq_test_tv)*((len(y_test_tv)-1)/(len(y_test_tv)- (X_test_tv.shape[1]) - 1)))\n",
    "print(f\"Adjusted R-SQUARE FOR Testing FOR TV ONLY = {adj_rsq_test_tv}\")\n",
    "\n"
   ]
  },
  {
   "cell_type": "code",
   "execution_count": null,
   "id": "36768d47",
   "metadata": {},
   "outputs": [],
   "source": []
  },
  {
   "cell_type": "code",
   "execution_count": null,
   "id": "e5f8bac7",
   "metadata": {},
   "outputs": [],
   "source": []
  },
  {
   "cell_type": "code",
   "execution_count": 51,
   "id": "c8a4c8e2",
   "metadata": {
    "collapsed": true
   },
   "outputs": [
    {
     "data": {
      "text/html": [
       "<div>\n",
       "<style scoped>\n",
       "    .dataframe tbody tr th:only-of-type {\n",
       "        vertical-align: middle;\n",
       "    }\n",
       "\n",
       "    .dataframe tbody tr th {\n",
       "        vertical-align: top;\n",
       "    }\n",
       "\n",
       "    .dataframe thead th {\n",
       "        text-align: right;\n",
       "    }\n",
       "</style>\n",
       "<table border=\"1\" class=\"dataframe\">\n",
       "  <thead>\n",
       "    <tr style=\"text-align: right;\">\n",
       "      <th></th>\n",
       "      <th>TV ONLY</th>\n",
       "    </tr>\n",
       "  </thead>\n",
       "  <tbody>\n",
       "    <tr>\n",
       "      <th>R-SQUARE TRAINING</th>\n",
       "      <td>0.641143</td>\n",
       "    </tr>\n",
       "    <tr>\n",
       "      <th>R-SQUARE TESTING</th>\n",
       "      <td>0.511162</td>\n",
       "    </tr>\n",
       "    <tr>\n",
       "      <th>RMSE TRAINING</th>\n",
       "      <td>3.236360</td>\n",
       "    </tr>\n",
       "    <tr>\n",
       "      <th>RMSE TESTING</th>\n",
       "      <td>3.289800</td>\n",
       "    </tr>\n",
       "    <tr>\n",
       "      <th>INTERCEPT</th>\n",
       "      <td>6.745302</td>\n",
       "    </tr>\n",
       "    <tr>\n",
       "      <th>SLOPE</th>\n",
       "      <td>0.050244</td>\n",
       "    </tr>\n",
       "    <tr>\n",
       "      <th>ADJUSTED R-SQUARE TRAINING</th>\n",
       "      <td>0.638543</td>\n",
       "    </tr>\n",
       "    <tr>\n",
       "      <th>ADJUSTED R-SQUARE TESTING</th>\n",
       "      <td>0.502733</td>\n",
       "    </tr>\n",
       "  </tbody>\n",
       "</table>\n",
       "</div>"
      ],
      "text/plain": [
       "                             TV ONLY\n",
       "R-SQUARE TRAINING           0.641143\n",
       "R-SQUARE TESTING            0.511162\n",
       "RMSE TRAINING               3.236360\n",
       "RMSE TESTING                3.289800\n",
       "INTERCEPT                   6.745302\n",
       "SLOPE                       0.050244\n",
       "ADJUSTED R-SQUARE TRAINING  0.638543\n",
       "ADJUSTED R-SQUARE TESTING   0.502733"
      ]
     },
     "execution_count": 51,
     "metadata": {},
     "output_type": "execute_result"
    }
   ],
   "source": [
    "df = pd.DataFrame({'TV ONLY':[0.6411433688483876,0.5111616978794155,\n",
    "                              3.23635978514614,3.2898003457568414,6.745302251222066,0.05024351,0.6385429584777238,\\\n",
    "                              0.5027334512911296]},\n",
    "                  index = ['R-SQUARE TRAINING','R-SQUARE TESTING','RMSE TRAINING','RMSE TESTING','INTERCEPT','SLOPE'\n",
    "                          ,'ADJUSTED R-SQUARE TRAINING','ADJUSTED R-SQUARE TESTING'])\n",
    "df"
   ]
  },
  {
   "cell_type": "markdown",
   "id": "217ef9ed",
   "metadata": {},
   "source": [
    "# FOR TV AND RADIO"
   ]
  },
  {
   "cell_type": "code",
   "execution_count": 27,
   "id": "e1470417",
   "metadata": {},
   "outputs": [],
   "source": [
    "X = advertising[['TV','Radio']]\n",
    "y = advertising['Sales']"
   ]
  },
  {
   "cell_type": "code",
   "execution_count": 28,
   "id": "c72a28cd",
   "metadata": {},
   "outputs": [],
   "source": [
    "X_train_tr,X_test_tr,y_train_tr,y_test_tr = train_test_split(X,y,test_size=0.3,random_state=5)"
   ]
  },
  {
   "cell_type": "code",
   "execution_count": 29,
   "id": "bd8eb9a6",
   "metadata": {},
   "outputs": [
    {
     "data": {
      "text/html": [
       "<div>\n",
       "<style scoped>\n",
       "    .dataframe tbody tr th:only-of-type {\n",
       "        vertical-align: middle;\n",
       "    }\n",
       "\n",
       "    .dataframe tbody tr th {\n",
       "        vertical-align: top;\n",
       "    }\n",
       "\n",
       "    .dataframe thead th {\n",
       "        text-align: right;\n",
       "    }\n",
       "</style>\n",
       "<table border=\"1\" class=\"dataframe\">\n",
       "  <thead>\n",
       "    <tr style=\"text-align: right;\">\n",
       "      <th></th>\n",
       "      <th>TV</th>\n",
       "      <th>Radio</th>\n",
       "    </tr>\n",
       "  </thead>\n",
       "  <tbody>\n",
       "    <tr>\n",
       "      <th>170</th>\n",
       "      <td>50.0</td>\n",
       "      <td>11.6</td>\n",
       "    </tr>\n",
       "    <tr>\n",
       "      <th>182</th>\n",
       "      <td>56.2</td>\n",
       "      <td>5.7</td>\n",
       "    </tr>\n",
       "  </tbody>\n",
       "</table>\n",
       "</div>"
      ],
      "text/plain": [
       "       TV  Radio\n",
       "170  50.0   11.6\n",
       "182  56.2    5.7"
      ]
     },
     "execution_count": 29,
     "metadata": {},
     "output_type": "execute_result"
    }
   ],
   "source": [
    "X_train_tr.head(2)"
   ]
  },
  {
   "cell_type": "code",
   "execution_count": 30,
   "id": "1be911ee",
   "metadata": {},
   "outputs": [],
   "source": [
    "#INSTANTIATING OUR MODEL\n",
    "lr_model_tr = LinearRegression()"
   ]
  },
  {
   "cell_type": "code",
   "execution_count": 31,
   "id": "1ba03880",
   "metadata": {},
   "outputs": [
    {
     "data": {
      "text/plain": [
       "LinearRegression()"
      ]
     },
     "execution_count": 31,
     "metadata": {},
     "output_type": "execute_result"
    }
   ],
   "source": [
    "#FITTING TRAINING DATA TO OUR MODEL\n",
    "lr_model_tr.fit(X_train_tr,y_train_tr)\n"
   ]
  },
  {
   "cell_type": "code",
   "execution_count": 32,
   "id": "8426aac6",
   "metadata": {},
   "outputs": [
    {
     "name": "stdout",
     "output_type": "stream",
     "text": [
      " c = 2.951573488420264, m = [0.04667388 0.18424872]\n"
     ]
    }
   ],
   "source": [
    "#INTERCEPT AND SLOPE VALUES\n",
    "print(f\" c = {lr_model_tr.intercept_}, m = {lr_model_tr.coef_}\")"
   ]
  },
  {
   "cell_type": "code",
   "execution_count": 33,
   "id": "f6d9a5ec",
   "metadata": {},
   "outputs": [],
   "source": [
    "# PREDICTION VALUES\n",
    "\n",
    "pred_train_tr = lr_model_tr.predict(X_train_tr)\n",
    "pred_test_tr = lr_model_tr.predict(X_test_tr)"
   ]
  },
  {
   "cell_type": "code",
   "execution_count": 34,
   "id": "1f2f8c10",
   "metadata": {},
   "outputs": [
    {
     "name": "stdout",
     "output_type": "stream",
     "text": [
      "0.8997316645428147\n",
      "0.8869404796279678\n"
     ]
    }
   ],
   "source": [
    "# R-SQUARED VALUES\n",
    "\n",
    "r_sq_train_tr = r2_score(y_train_tr,pred_train_tr)\n",
    "r_sq_test_tr = r2_score(y_test_tr,pred_test_tr)\n",
    "\n",
    "print(r_sq_train_tr)\n",
    "print(r_sq_test_tr)"
   ]
  },
  {
   "cell_type": "code",
   "execution_count": 35,
   "id": "a9fb5abc",
   "metadata": {},
   "outputs": [
    {
     "name": "stdout",
     "output_type": "stream",
     "text": [
      "0.8982678932222719\n",
      "0.8829734789131597\n"
     ]
    }
   ],
   "source": [
    "#ADJUSTED R_SQUARED VALUES\n",
    "\n",
    "adj_rsq_train_tr = 1-((1-r_sq_train_tr)*((len(y_train_tr)-1)/(len(y_train_tr)- (X_train_tr.shape[1]) - 1)))\n",
    "print(adj_rsq_train_tr)\n",
    "\n",
    "adj_rsq_test_tr = 1-((1-r_sq_test_tr)*((len(y_test_tr)-1)/(len(y_test_tr)- (X_test_tr.shape[1]) - 1)))\n",
    "print(adj_rsq_test_tr)"
   ]
  },
  {
   "cell_type": "code",
   "execution_count": 36,
   "id": "1c2b2ffe",
   "metadata": {},
   "outputs": [
    {
     "name": "stdout",
     "output_type": "stream",
     "text": [
      "1.7107171561750043\n",
      "1.5821239241271168\n"
     ]
    }
   ],
   "source": [
    "#RMSE VALUES\n",
    "\n",
    "rmse_train_tr = np.sqrt(mean_squared_error(y_train_tr,pred_train_tr))\n",
    "rmse_test_tr = np.sqrt(mean_squared_error(y_test_tr,pred_test_tr))\n",
    "\n",
    "print(rmse_train_tr)\n",
    "print(rmse_test_tr)"
   ]
  },
  {
   "cell_type": "markdown",
   "id": "325b8304",
   "metadata": {},
   "source": [
    "# FOR TV , RADIO , NEWSPAPER"
   ]
  },
  {
   "cell_type": "code",
   "execution_count": 37,
   "id": "5350b51b",
   "metadata": {},
   "outputs": [],
   "source": [
    "X = advertising[['TV','Radio','Newspaper']]\n",
    "y = advertising['Sales']"
   ]
  },
  {
   "cell_type": "code",
   "execution_count": 38,
   "id": "8294c87e",
   "metadata": {},
   "outputs": [],
   "source": [
    "X_train_trn,X_test_trn,y_train_trn,y_test_trn = train_test_split(X,y,test_size=0.3,random_state=5)"
   ]
  },
  {
   "cell_type": "code",
   "execution_count": 39,
   "id": "794b8f1a",
   "metadata": {},
   "outputs": [
    {
     "data": {
      "text/html": [
       "<div>\n",
       "<style scoped>\n",
       "    .dataframe tbody tr th:only-of-type {\n",
       "        vertical-align: middle;\n",
       "    }\n",
       "\n",
       "    .dataframe tbody tr th {\n",
       "        vertical-align: top;\n",
       "    }\n",
       "\n",
       "    .dataframe thead th {\n",
       "        text-align: right;\n",
       "    }\n",
       "</style>\n",
       "<table border=\"1\" class=\"dataframe\">\n",
       "  <thead>\n",
       "    <tr style=\"text-align: right;\">\n",
       "      <th></th>\n",
       "      <th>TV</th>\n",
       "      <th>Radio</th>\n",
       "      <th>Newspaper</th>\n",
       "    </tr>\n",
       "  </thead>\n",
       "  <tbody>\n",
       "    <tr>\n",
       "      <th>170</th>\n",
       "      <td>50.0</td>\n",
       "      <td>11.6</td>\n",
       "      <td>18.4</td>\n",
       "    </tr>\n",
       "    <tr>\n",
       "      <th>182</th>\n",
       "      <td>56.2</td>\n",
       "      <td>5.7</td>\n",
       "      <td>29.7</td>\n",
       "    </tr>\n",
       "  </tbody>\n",
       "</table>\n",
       "</div>"
      ],
      "text/plain": [
       "       TV  Radio  Newspaper\n",
       "170  50.0   11.6       18.4\n",
       "182  56.2    5.7       29.7"
      ]
     },
     "execution_count": 39,
     "metadata": {},
     "output_type": "execute_result"
    }
   ],
   "source": [
    "X_train_trn.head(2)"
   ]
  },
  {
   "cell_type": "code",
   "execution_count": 40,
   "id": "5a331230",
   "metadata": {},
   "outputs": [],
   "source": [
    "#INSTANTIATING OUR MODEL\n",
    "lr_model_trn = LinearRegression()"
   ]
  },
  {
   "cell_type": "code",
   "execution_count": 41,
   "id": "c8cd9d59",
   "metadata": {},
   "outputs": [
    {
     "data": {
      "text/plain": [
       "LinearRegression()"
      ]
     },
     "execution_count": 41,
     "metadata": {},
     "output_type": "execute_result"
    }
   ],
   "source": [
    "#FITTING TRAINING DATA TO OUR MODEL\n",
    "lr_model_trn.fit(X_train_trn,y_train_trn)\n"
   ]
  },
  {
   "cell_type": "code",
   "execution_count": 42,
   "id": "5d6eb1ee",
   "metadata": {},
   "outputs": [
    {
     "name": "stdout",
     "output_type": "stream",
     "text": [
      " c = 2.9787673054549177, m = [ 0.04668512  0.18501553 -0.00153043]\n"
     ]
    }
   ],
   "source": [
    "#INTERCEPT AND SLOPE VALUES\n",
    "print(f\" c = {lr_model_trn.intercept_}, m = {lr_model_trn.coef_}\")"
   ]
  },
  {
   "cell_type": "code",
   "execution_count": 43,
   "id": "8a2796e3",
   "metadata": {},
   "outputs": [],
   "source": [
    "# PREDICTION VALUES\n",
    "\n",
    "pred_train_trn = lr_model_trn.predict(X_train_trn)\n",
    "pred_test_trn = lr_model_trn.predict(X_test_trn)"
   ]
  },
  {
   "cell_type": "code",
   "execution_count": 44,
   "id": "1db96fa0",
   "metadata": {},
   "outputs": [
    {
     "name": "stdout",
     "output_type": "stream",
     "text": [
      "0.8997682984995\n",
      "0.8868821951328665\n"
     ]
    }
   ],
   "source": [
    "# R-SQUARED VALUES\n",
    "\n",
    "r_sq_train_trn = r2_score(y_train_trn,pred_train_trn)\n",
    "r_sq_test_trn = r2_score(y_test_trn,pred_test_trn)\n",
    "\n",
    "print(r_sq_train_trn)\n",
    "print(r_sq_test_trn)"
   ]
  },
  {
   "cell_type": "code",
   "execution_count": 75,
   "id": "1953894f",
   "metadata": {},
   "outputs": [
    {
     "name": "stdout",
     "output_type": "stream",
     "text": [
      "Adjusted R-SQUARE FOR TRAINING FOR TV ,RADIO,NEWSPAPER ONLY = 0.8975573050840479\n",
      "Adjusted R-SQUARE FOR Testing FOR TV,RADIO,NEWSPAPER ONLY = 0.88082231272927\n"
     ]
    }
   ],
   "source": [
    "#ADJUSTED R_SQUARED VALUES\n",
    "adj_rsq_train_trn = 1-((1-r_sq_train_trn)*((len(y_train_trn)-1)/(len(y_train_trn)- (X_train_trn.shape[1]) - 1))) \n",
    "print(f\"Adjusted R-SQUARE FOR TRAINING FOR TV ,RADIO,NEWSPAPER ONLY = {adj_rsq_train_trn}\")\n",
    "\n",
    "adj_rsq_test_trn = 1-((1-r_sq_test_trn)*((len(y_test_trn)-1)/(len(y_test_trn)- (X_test_trn.shape[1]) - 1)))\n",
    "print(f\"Adjusted R-SQUARE FOR Testing FOR TV,RADIO,NEWSPAPER ONLY = {adj_rsq_test_trn}\")\n"
   ]
  },
  {
   "cell_type": "code",
   "execution_count": 46,
   "id": "5c3fe2ca",
   "metadata": {},
   "outputs": [
    {
     "name": "stdout",
     "output_type": "stream",
     "text": [
      "1.710404614517381\n",
      "1.5825316802028755\n"
     ]
    }
   ],
   "source": [
    "#RMSE VALUES\n",
    "\n",
    "rmse_train_trn = np.sqrt(mean_squared_error(y_train_trn,pred_train_trn))\n",
    "rmse_test_trn = np.sqrt(mean_squared_error(y_test_trn,pred_test_trn))\n",
    "\n",
    "print(rmse_train_trn)\n",
    "print(rmse_test_trn)"
   ]
  },
  {
   "cell_type": "markdown",
   "id": "89478dce",
   "metadata": {},
   "source": [
    "# ONLY RADIO"
   ]
  },
  {
   "cell_type": "code",
   "execution_count": 56,
   "id": "2be36fb4",
   "metadata": {},
   "outputs": [],
   "source": [
    "X = advertising['Radio']\n",
    "y = advertising['Sales']"
   ]
  },
  {
   "cell_type": "code",
   "execution_count": 57,
   "id": "51b166be",
   "metadata": {},
   "outputs": [],
   "source": [
    "# TRAIN TEST SPLIT 70-30 RATIO\n",
    "from sklearn.model_selection import train_test_split\n",
    "\n",
    "X_train_r,X_test_r,y_train_r,y_test_r = train_test_split(X,y,test_size=0.3,random_state=5)"
   ]
  },
  {
   "cell_type": "code",
   "execution_count": 58,
   "id": "fd33e97a",
   "metadata": {},
   "outputs": [],
   "source": [
    "# RESHAPING FOR ONLY ONE FEATURE\n",
    "X_train_r = X_train_r.values.reshape(-1,1)\n",
    "X_test_r = X_test_r.values.reshape(-1,1)\n"
   ]
  },
  {
   "cell_type": "code",
   "execution_count": 62,
   "id": "93e82b62",
   "metadata": {},
   "outputs": [],
   "source": [
    "# INSTANTIATING MODEL\n",
    "lr_model_r = LinearRegression()"
   ]
  },
  {
   "cell_type": "code",
   "execution_count": 63,
   "id": "fcadddba",
   "metadata": {},
   "outputs": [
    {
     "data": {
      "text/plain": [
       "LinearRegression()"
      ]
     },
     "execution_count": 63,
     "metadata": {},
     "output_type": "execute_result"
    }
   ],
   "source": [
    "# FITTING TRAINING DATA TO OUR MODEL\n",
    "lr_model_r.fit(X_train_r,y_train_r)"
   ]
  },
  {
   "cell_type": "code",
   "execution_count": 64,
   "id": "57351d3a",
   "metadata": {},
   "outputs": [
    {
     "name": "stdout",
     "output_type": "stream",
     "text": [
      " c = 8.947238531088827, m = [0.21402617]\n"
     ]
    }
   ],
   "source": [
    "#INTERCEPT AND SLOPE VALUES\n",
    "print(f\" c = {lr_model_r.intercept_}, m = {lr_model_r.coef_}\")"
   ]
  },
  {
   "cell_type": "code",
   "execution_count": 65,
   "id": "d912292e",
   "metadata": {},
   "outputs": [],
   "source": [
    "# PREDICTION VALUES\n",
    "pred_train_r = lr_model_r.predict(X_train_r)\n",
    "pred_test_r = lr_model_r.predict(X_test_r)"
   ]
  },
  {
   "cell_type": "code",
   "execution_count": 66,
   "id": "98e25407",
   "metadata": {},
   "outputs": [
    {
     "name": "stdout",
     "output_type": "stream",
     "text": [
      "R-SQUARE FOR TRAINING SET FOR ONLY RADIO = 0.35329310904620403\n",
      "R-SQUARE FOR TESTING SET FOR ONLY RADIO = 0.25956853092810184\n"
     ]
    }
   ],
   "source": [
    "# R-SQUARED VALUES\n",
    "r_sq_train_r = r2_score(y_train_r,pred_train_r)\n",
    "print(f\"R-SQUARE FOR TRAINING SET FOR ONLY RADIO = {r_sq_train_r}\")\n",
    "\n",
    "r_sq_test_r = r2_score(y_test_r,pred_test_r)\n",
    "print(f\"R-SQUARE FOR TESTING SET FOR ONLY RADIO = {r_sq_test_r}\")"
   ]
  },
  {
   "cell_type": "code",
   "execution_count": 69,
   "id": "7e790da3",
   "metadata": {},
   "outputs": [
    {
     "name": "stdout",
     "output_type": "stream",
     "text": [
      "Adjusted R-SQUARE FOR TRAINING FOR RADIO ONLY = 0.3486068272276982\n",
      "Adjusted R-SQUARE FOR Testing FOR TV ONLY = 0.24680247111651743\n"
     ]
    }
   ],
   "source": [
    "#ADJUSTED R-SQUARE VALUES\n",
    "\n",
    "adj_rsq_train_r = 1-((1-r_sq_train_r)*((len(y_train_r)-1)/(len(y_train_r)- (X_train_r.shape[1]) - 1))) \n",
    "print(f\"Adjusted R-SQUARE FOR TRAINING FOR RADIO ONLY = {adj_rsq_train_r}\")\n",
    "\n",
    "adj_rsq_test_r = 1-((1-r_sq_test_r)*((len(y_test_r)-1)/(len(y_test_r)- (X_test_r.shape[1]) - 1)))\n",
    "print(f\"Adjusted R-SQUARE FOR Testing FOR TV ONLY = {adj_rsq_test_r}\")\n",
    "\n"
   ]
  },
  {
   "cell_type": "code",
   "execution_count": 70,
   "id": "ab3b6861",
   "metadata": {},
   "outputs": [
    {
     "name": "stdout",
     "output_type": "stream",
     "text": [
      "RMSE VALUE FOR TRAINING SET FOR RADIO ONLY = 4.344602546436961\n",
      "RMSE VALE FOR TESTING SET FOR RADIO ONLY = 4.048828325481367\n"
     ]
    }
   ],
   "source": [
    "#RMSE VALUES\n",
    "\n",
    "rmse_train_r = np.sqrt(mean_squared_error(y_train_r,pred_train_r))\n",
    "rmse_test_r = np.sqrt(mean_squared_error(y_test_r,pred_test_r))\n",
    "\n",
    "print(f\"RMSE VALUE FOR TRAINING SET FOR RADIO ONLY = {rmse_train_r}\")\n",
    "print(f\"RMSE VALE FOR TESTING SET FOR RADIO ONLY = {rmse_test_r}\")\n",
    "\n"
   ]
  },
  {
   "cell_type": "markdown",
   "id": "c173dae6",
   "metadata": {},
   "source": [
    "# ONLY NEWSPAPER"
   ]
  },
  {
   "cell_type": "code",
   "execution_count": 72,
   "id": "30bb31c1",
   "metadata": {},
   "outputs": [
    {
     "name": "stdout",
     "output_type": "stream",
     "text": [
      "c = 12.395074564831054, m = [0.05088308]\n",
      "R-SQUARE FOR TRAINING SET FOR ONLY NEWSPAPER = 0.04563777977331218\n",
      "R-SQUARE FOR TESTING SET FOR ONLY NEWSPAPER = 0.0684134601660008\n",
      "Adjusted R-SQUARE FOR TRAINING FOR NEWSPAPER ONLY = 0.03872211151079996\n",
      "Adjusted R-SQUARE FOR Testing FOR NEWSPAPER ONLY = 0.05235162327231124\n",
      "RMSE VALUE FOR TRAINING SET FOR NEWSPAPER ONLY = 5.2777999848675945\n",
      "RMSE VALE FOR TESTING SET FOR NEWSPAPER ONLY = 4.5414917634889465\n"
     ]
    }
   ],
   "source": [
    "X = advertising[['Newspaper']]\n",
    "y = advertising['Sales']\n",
    "\n",
    "# TRAIN TEST SPLIT 70-30 RATIO\n",
    "from sklearn.model_selection import train_test_split\n",
    "X_train_n,X_test_n,y_train_n,y_test_n = train_test_split(X,y,test_size=0.3,random_state=5)\n",
    "\n",
    "# RESHAPING FOR ONLY ONE FEATURE\n",
    "X_train_n = X_train_n.values.reshape(-1,1)\n",
    "X_test_n = X_test_n.values.reshape(-1,1)\n",
    "\n",
    "# INSTANTIATING MODEL\n",
    "lr_model_n = LinearRegression()\n",
    "\n",
    "# FITTING TRAINING DATA TO OUR MODEL\n",
    "lr_model_n.fit(X_train_n,y_train_n)\n",
    "\n",
    "#INTERCEPT AND SLOPE VALUES\n",
    "print(f\"c = {lr_model_n.intercept_}, m = {lr_model_n.coef_}\")\n",
    "\n",
    "# PREDICTION VALUES\n",
    "pred_train_n = lr_model_n.predict(X_train_n)\n",
    "pred_test_n = lr_model_n.predict(X_test_n)\n",
    "\n",
    "# R-SQUARED VALUES\n",
    "r_sq_train_n = r2_score(y_train_n,pred_train_n)\n",
    "print(f\"R-SQUARE FOR TRAINING SET FOR ONLY NEWSPAPER = {r_sq_train_n}\")\n",
    "r_sq_test_n = r2_score(y_test_n,pred_test_n)\n",
    "print(f\"R-SQUARE FOR TESTING SET FOR ONLY NEWSPAPER = {r_sq_test_n}\")\n",
    "\n",
    "#ADJUSTED R-SQUARE VALUES\n",
    "adj_rsq_train_n = 1-((1-r_sq_train_n)*((len(y_train_n)-1)/(len(y_train_n)- (X_train_n.shape[1]) - 1))) \n",
    "print(f\"Adjusted R-SQUARE FOR TRAINING FOR NEWSPAPER ONLY = {adj_rsq_train_n}\")\n",
    "adj_rsq_test_n = 1-((1-r_sq_test_n)*((len(y_test_n)-1)/(len(y_test_n)- (X_test_n.shape[1]) - 1)))\n",
    "print(f\"Adjusted R-SQUARE FOR Testing FOR NEWSPAPER ONLY = {adj_rsq_test_n}\")\n",
    "\n",
    "#RMSE VALUES\n",
    "rmse_train_n = np.sqrt(mean_squared_error(y_train_n,pred_train_n))\n",
    "rmse_test_n = np.sqrt(mean_squared_error(y_test_n,pred_test_n))\n",
    "print(f\"RMSE VALUE FOR TRAINING SET FOR NEWSPAPER ONLY = {rmse_train_n}\")\n",
    "print(f\"RMSE VALE FOR TESTING SET FOR NEWSPAPER ONLY = {rmse_test_n}\")"
   ]
  },
  {
   "cell_type": "markdown",
   "id": "bb6bcb28",
   "metadata": {},
   "source": [
    "# FOR TV AND NEWSPAPER TOGETHER"
   ]
  },
  {
   "cell_type": "code",
   "execution_count": 73,
   "id": "4c82b649",
   "metadata": {},
   "outputs": [
    {
     "name": "stdout",
     "output_type": "stream",
     "text": [
      "c = 5.658454443368459, m = [0.04958348 0.0386979 ]\n",
      "R-SQUARE FOR TRAINING SET FOR TV & NEWSPAPER = 0.6674296046949286\n",
      "R-SQUARE FOR TESTING SET FOR TV & NEWSPAPER = 0.567294377838726\n",
      "Adjusted R-SQUARE FOR TRAINING FOR TV & NEWSPAPER  = 0.6625745624277013\n",
      "Adjusted R-SQUARE FOR Testing FOR TV & NEWSPAPER  = 0.5521117244295585\n",
      "RMSE VALUE FOR TRAINING SET FOR TV & NEWSPAPER  = 3.1155742190066236\n",
      "RMSE VALUE FOR TESTING SET FOR TV & NEWSPAPER  = 3.0951606645546454\n"
     ]
    }
   ],
   "source": [
    "X = advertising[['TV','Newspaper']]\n",
    "y = advertising['Sales']\n",
    "\n",
    "# TRAIN TEST SPLIT 70-30 RATIO\n",
    "from sklearn.model_selection import train_test_split\n",
    "X_train_tn,X_test_tn,y_train_tn,y_test_tn = train_test_split(X,y,test_size=0.3,random_state=5)\n",
    "\n",
    "\n",
    "# INSTANTIATING MODEL\n",
    "lr_model_tn = LinearRegression()\n",
    "\n",
    "# FITTING TRAINING DATA TO OUR MODEL\n",
    "lr_model_tn.fit(X_train_tn,y_train_tn)\n",
    "\n",
    "#INTERCEPT AND SLOPE VALUES\n",
    "print(f\"c = {lr_model_tn.intercept_}, m = {lr_model_tn.coef_}\")\n",
    "\n",
    "# PREDICTION VALUES\n",
    "pred_train_tn = lr_model_tn.predict(X_train_tn)\n",
    "pred_test_tn = lr_model_tn.predict(X_test_tn)\n",
    "\n",
    "# R-SQUARED VALUES\n",
    "r_sq_train_tn = r2_score(y_train_tn,pred_train_tn)\n",
    "print(f\"R-SQUARE FOR TRAINING SET FOR TV & NEWSPAPER = {r_sq_train_tn}\")\n",
    "r_sq_test_tn = r2_score(y_test_tn,pred_test_tn)\n",
    "print(f\"R-SQUARE FOR TESTING SET FOR TV & NEWSPAPER = {r_sq_test_tn}\")\n",
    "\n",
    "#ADJUSTED R-SQUARE VALUES\n",
    "adj_rsq_train_tn = 1-((1-r_sq_train_tn)*((len(y_train_tn)-1)/(len(y_train_tn)- (X_train_tn.shape[1]) - 1))) \n",
    "print(f\"Adjusted R-SQUARE FOR TRAINING FOR TV & NEWSPAPER  = {adj_rsq_train_tn}\")\n",
    "adj_rsq_test_tn = 1-((1-r_sq_test_tn)*((len(y_test_tn)-1)/(len(y_test_tn)- (X_test_tn.shape[1]) - 1)))\n",
    "print(f\"Adjusted R-SQUARE FOR Testing FOR TV & NEWSPAPER  = {adj_rsq_test_tn}\")\n",
    "\n",
    "#RMSE VALUES\n",
    "rmse_train_tn = np.sqrt(mean_squared_error(y_train_tn,pred_train_tn))\n",
    "rmse_test_tn = np.sqrt(mean_squared_error(y_test_tn,pred_test_tn))\n",
    "print(f\"RMSE VALUE FOR TRAINING SET FOR TV & NEWSPAPER  = {rmse_train_tn}\")\n",
    "print(f\"RMSE VALUE FOR TESTING SET FOR TV & NEWSPAPER  = {rmse_test_tn}\")"
   ]
  },
  {
   "cell_type": "markdown",
   "id": "f7376637",
   "metadata": {},
   "source": [
    "# FOR RADIO AND NEWSPAPER TOGETHER"
   ]
  },
  {
   "cell_type": "code",
   "execution_count": 74,
   "id": "d412446d",
   "metadata": {},
   "outputs": [
    {
     "name": "stdout",
     "output_type": "stream",
     "text": [
      "c = 8.873007155449262, m = [0.21201998 0.00396688]\n",
      "R-SQUARE FOR TRAINING SET FOR RADIO & NEWSPAPER = 0.35353944775963253\n",
      "R-SQUARE FOR TESTING SET FOR RADIO & NEWSPAPER = 0.26107592881825714\n",
      "Adjusted R-SQUARE FOR TRAINING FOR RADIO & NEWSPAPER  = 0.34410206743495564\n",
      "Adjusted R-SQUARE FOR Testing FOR RADIO & NEWSPAPER  = 0.23514876842591526\n",
      "RMSE VALUE FOR TRAINING SET FOR RADIO & NEWSPAPER  = 4.343775011000633\n",
      "RMSE VALUE FOR TESTING SET FOR RADIO & NEWSPAPER  = 4.044704848174974\n"
     ]
    }
   ],
   "source": [
    "X = advertising[['Radio','Newspaper']]\n",
    "y = advertising['Sales']\n",
    "\n",
    "# TRAIN TEST SPLIT 70-30 RATIO\n",
    "from sklearn.model_selection import train_test_split\n",
    "X_train_rn,X_test_rn,y_train_rn,y_test_rn = train_test_split(X,y,test_size=0.3,random_state=5)\n",
    "\n",
    "\n",
    "# INSTANTIATING MODEL\n",
    "lr_model_rn = LinearRegression()\n",
    "\n",
    "# FITTING TRAINING DATA TO OUR MODEL\n",
    "lr_model_rn.fit(X_train_rn,y_train_rn)\n",
    "\n",
    "#INTERCEPT AND SLOPE VALUES\n",
    "print(f\"c = {lr_model_rn.intercept_}, m = {lr_model_rn.coef_}\")\n",
    "\n",
    "# PREDICTION VALUES\n",
    "pred_train_rn = lr_model_rn.predict(X_train_rn)\n",
    "pred_test_rn = lr_model_rn.predict(X_test_rn)\n",
    "\n",
    "# R-SQUARED VALUES\n",
    "r_sq_train_rn = r2_score(y_train_rn,pred_train_rn)\n",
    "print(f\"R-SQUARE FOR TRAINING SET FOR RADIO & NEWSPAPER = {r_sq_train_rn}\")\n",
    "r_sq_test_rn = r2_score(y_test_rn,pred_test_rn)\n",
    "print(f\"R-SQUARE FOR TESTING SET FOR RADIO & NEWSPAPER = {r_sq_test_rn}\")\n",
    "\n",
    "#ADJUSTED R-SQUARE VALUES\n",
    "adj_rsq_train_rn = 1-((1-r_sq_train_rn)*((len(y_train_rn)-1)/(len(y_train_rn)- (X_train_rn.shape[1]) - 1))) \n",
    "print(f\"Adjusted R-SQUARE FOR TRAINING FOR RADIO & NEWSPAPER  = {adj_rsq_train_rn}\")\n",
    "adj_rsq_test_rn = 1-((1-r_sq_test_rn)*((len(y_test_rn)-1)/(len(y_test_rn)- (X_test_rn.shape[1]) - 1)))\n",
    "print(f\"Adjusted R-SQUARE FOR Testing FOR RADIO & NEWSPAPER  = {adj_rsq_test_rn}\")\n",
    "\n",
    "#RMSE VALUES\n",
    "rmse_train_rn = np.sqrt(mean_squared_error(y_train_rn,pred_train_rn))\n",
    "rmse_test_rn = np.sqrt(mean_squared_error(y_test_rn,pred_test_rn))\n",
    "print(f\"RMSE VALUE FOR TRAINING SET FOR RADIO & NEWSPAPER  = {rmse_train_rn}\")\n",
    "print(f\"RMSE VALUE FOR TESTING SET FOR RADIO & NEWSPAPER  = {rmse_test_rn}\")"
   ]
  },
  {
   "cell_type": "markdown",
   "id": "c403709f",
   "metadata": {},
   "source": [
    "# FOR TV RADIO NEWSPAPER\n",
    "\n"
   ]
  },
  {
   "cell_type": "code",
   "execution_count": 80,
   "id": "b44bfc89",
   "metadata": {},
   "outputs": [
    {
     "name": "stdout",
     "output_type": "stream",
     "text": [
      "c = 2.9787673054549177, m = [ 0.04668512  0.18501553 -0.00153043]\n",
      "R-SQUARE FOR TRAINING SET FOR TV ,RADIO & NEWSPAPER = 0.8997682984995\n",
      "R-SQUARE FOR TESTING SET FOR TV, RADIO & NEWSPAPER = 0.8868821951328665\n",
      "Adjusted R-SQUARE FOR TRAINING FOR TV, RADIO & NEWSPAPER  = 0.8975573050840479\n",
      "Adjusted R-SQUARE FOR Testing FOR TV, RADIO & NEWSPAPER  = 0.88082231272927\n",
      "RMSE VALUE FOR TRAINING SET FOR TV, RADIO & NEWSPAPER  = 1.710404614517381\n",
      "RMSE VALUE FOR TESTING SET FOR TV, RADIO & NEWSPAPER  = 1.5825316802028755\n"
     ]
    }
   ],
   "source": [
    "X = advertising[['TV','Radio','Newspaper']]\n",
    "y = advertising['Sales']\n",
    "\n",
    "# TRAIN TEST SPLIT 70-30 RATIO\n",
    "from sklearn.model_selection import train_test_split\n",
    "X_train_trn,X_test_trn,y_train_trn,y_test_trn = train_test_split(X,y,test_size=0.3,random_state=5)\n",
    "\n",
    "\n",
    "# INSTANTIATING MODEL\n",
    "lr_model_trn = LinearRegression()\n",
    "\n",
    "# FITTING TRAINING DATA TO OUR MODEL\n",
    "lr_model_trn.fit(X_train_trn,y_train_trn)\n",
    "\n",
    "#INTERCEPT AND SLOPE VALUES\n",
    "print(f\"c = {lr_model_trn.intercept_}, m = {lr_model_trn.coef_}\")\n",
    "\n",
    "# PREDICTION VALUES\n",
    "pred_train_trn = lr_model_trn.predict(X_train_trn)\n",
    "pred_test_trn = lr_model_trn.predict(X_test_trn)\n",
    "\n",
    "# R-SQUARED VALUES\n",
    "r_sq_train_trn = r2_score(y_train_trn,pred_train_trn)\n",
    "print(f\"R-SQUARE FOR TRAINING SET FOR TV ,RADIO & NEWSPAPER = {r_sq_train_trn}\")\n",
    "r_sq_test_trn = r2_score(y_test_trn,pred_test_trn)\n",
    "print(f\"R-SQUARE FOR TESTING SET FOR TV, RADIO & NEWSPAPER = {r_sq_test_trn}\")\n",
    "\n",
    "#ADJUSTED R-SQUARE VALUES\n",
    "adj_rsq_train_trn = 1-((1-r_sq_train_trn)*((len(y_train_trn)-1)/(len(y_train_trn)- (X_train_trn.shape[1]) - 1))) \n",
    "print(f\"Adjusted R-SQUARE FOR TRAINING FOR TV, RADIO & NEWSPAPER  = {adj_rsq_train_trn}\")\n",
    "adj_rsq_test_trn = 1-((1-r_sq_test_trn)*((len(y_test_trn)-1)/(len(y_test_trn)- (X_test_trn.shape[1]) - 1)))\n",
    "print(f\"Adjusted R-SQUARE FOR Testing FOR TV, RADIO & NEWSPAPER  = {adj_rsq_test_trn}\")\n",
    "\n",
    "#RMSE VALUES\n",
    "rmse_train_trn = np.sqrt(mean_squared_error(y_train_trn,pred_train_trn))\n",
    "rmse_test_trn = np.sqrt(mean_squared_error(y_test_trn,pred_test_trn))\n",
    "print(f\"RMSE VALUE FOR TRAINING SET FOR TV, RADIO & NEWSPAPER  = {rmse_train_trn}\")\n",
    "print(f\"RMSE VALUE FOR TESTING SET FOR TV, RADIO & NEWSPAPER  = {rmse_test_trn}\")"
   ]
  },
  {
   "cell_type": "code",
   "execution_count": 76,
   "id": "946d3395",
   "metadata": {},
   "outputs": [],
   "source": [
    "data = {'R-SQUARE TRAINING':[0.6411433688483876,0.35329310904620403,0.04563777977331218,0.8997316645428147,0.6674296046949286,0.35353944775963253,0.8997682984995],\n",
    "        'R-SQUARE TESTING':[0.5111616978794155,0.25956853092810184,0.0684134601660008,0.8869404796279678,0.567294377838726,0.26107592881825714,0.8868821951328665],\n",
    "        'ADJUSTED R-SQUARE TRAINING':[0.6385429584777238,0.3486068272276982,0.03872211151079996,0.8982678932222719,0.6625745624277013,0.34410206743495564,0.8975573050840479],\n",
    "        'ADJUSTED R-SQUARE TESTING':[0.5027334512911296,0.24680247111651743,0.05235162327231124,0.8829734789131597,0.5521117244295585,0.23514876842591526,0.88082231272927],\n",
    "       'RMSE TRAINING':[3.23635978514614,4.344602546436961,5.2777999848675945,1.7107171561750043,3.1155742190066236,4.343775011000633,1.710404614517381],\n",
    "        'RMSE TESTING':[3.2898003457568414,4.048828325481367,4.5414917634889465,1.5821239241271168,3.0951606645546454,4.044704848174974,1.5825316802028755]}"
   ]
  },
  {
   "cell_type": "code",
   "execution_count": 79,
   "id": "19ec9e69",
   "metadata": {},
   "outputs": [
    {
     "data": {
      "text/html": [
       "<div>\n",
       "<style scoped>\n",
       "    .dataframe tbody tr th:only-of-type {\n",
       "        vertical-align: middle;\n",
       "    }\n",
       "\n",
       "    .dataframe tbody tr th {\n",
       "        vertical-align: top;\n",
       "    }\n",
       "\n",
       "    .dataframe thead th {\n",
       "        text-align: right;\n",
       "    }\n",
       "</style>\n",
       "<table border=\"1\" class=\"dataframe\">\n",
       "  <thead>\n",
       "    <tr style=\"text-align: right;\">\n",
       "      <th></th>\n",
       "      <th>R-SQUARE TRAINING</th>\n",
       "      <th>R-SQUARE TESTING</th>\n",
       "      <th>ADJUSTED R-SQUARE TRAINING</th>\n",
       "      <th>ADJUSTED R-SQUARE TESTING</th>\n",
       "      <th>RMSE TRAINING</th>\n",
       "      <th>RMSE TESTING</th>\n",
       "    </tr>\n",
       "  </thead>\n",
       "  <tbody>\n",
       "    <tr>\n",
       "      <th>TV</th>\n",
       "      <td>0.641143</td>\n",
       "      <td>0.511162</td>\n",
       "      <td>0.638543</td>\n",
       "      <td>0.502733</td>\n",
       "      <td>3.236360</td>\n",
       "      <td>3.289800</td>\n",
       "    </tr>\n",
       "    <tr>\n",
       "      <th>RADIO</th>\n",
       "      <td>0.353293</td>\n",
       "      <td>0.259569</td>\n",
       "      <td>0.348607</td>\n",
       "      <td>0.246802</td>\n",
       "      <td>4.344603</td>\n",
       "      <td>4.048828</td>\n",
       "    </tr>\n",
       "    <tr>\n",
       "      <th>NEWSPAPER</th>\n",
       "      <td>0.045638</td>\n",
       "      <td>0.068413</td>\n",
       "      <td>0.038722</td>\n",
       "      <td>0.052352</td>\n",
       "      <td>5.277800</td>\n",
       "      <td>4.541492</td>\n",
       "    </tr>\n",
       "    <tr>\n",
       "      <th>TV+RADIO</th>\n",
       "      <td>0.899732</td>\n",
       "      <td>0.886940</td>\n",
       "      <td>0.898268</td>\n",
       "      <td>0.882973</td>\n",
       "      <td>1.710717</td>\n",
       "      <td>1.582124</td>\n",
       "    </tr>\n",
       "    <tr>\n",
       "      <th>TV+NEWSPAPER</th>\n",
       "      <td>0.667430</td>\n",
       "      <td>0.567294</td>\n",
       "      <td>0.662575</td>\n",
       "      <td>0.552112</td>\n",
       "      <td>3.115574</td>\n",
       "      <td>3.095161</td>\n",
       "    </tr>\n",
       "    <tr>\n",
       "      <th>RADIO+NEWSPAPER</th>\n",
       "      <td>0.353539</td>\n",
       "      <td>0.261076</td>\n",
       "      <td>0.344102</td>\n",
       "      <td>0.235149</td>\n",
       "      <td>4.343775</td>\n",
       "      <td>4.044705</td>\n",
       "    </tr>\n",
       "    <tr>\n",
       "      <th>TV+RADIO+NEWSPAPER</th>\n",
       "      <td>0.899768</td>\n",
       "      <td>0.886882</td>\n",
       "      <td>0.897557</td>\n",
       "      <td>0.880822</td>\n",
       "      <td>1.710405</td>\n",
       "      <td>1.582532</td>\n",
       "    </tr>\n",
       "  </tbody>\n",
       "</table>\n",
       "</div>"
      ],
      "text/plain": [
       "                    R-SQUARE TRAINING  R-SQUARE TESTING  \\\n",
       "TV                           0.641143          0.511162   \n",
       "RADIO                        0.353293          0.259569   \n",
       "NEWSPAPER                    0.045638          0.068413   \n",
       "TV+RADIO                     0.899732          0.886940   \n",
       "TV+NEWSPAPER                 0.667430          0.567294   \n",
       "RADIO+NEWSPAPER              0.353539          0.261076   \n",
       "TV+RADIO+NEWSPAPER           0.899768          0.886882   \n",
       "\n",
       "                    ADJUSTED R-SQUARE TRAINING  ADJUSTED R-SQUARE TESTING  \\\n",
       "TV                                    0.638543                   0.502733   \n",
       "RADIO                                 0.348607                   0.246802   \n",
       "NEWSPAPER                             0.038722                   0.052352   \n",
       "TV+RADIO                              0.898268                   0.882973   \n",
       "TV+NEWSPAPER                          0.662575                   0.552112   \n",
       "RADIO+NEWSPAPER                       0.344102                   0.235149   \n",
       "TV+RADIO+NEWSPAPER                    0.897557                   0.880822   \n",
       "\n",
       "                    RMSE TRAINING  RMSE TESTING  \n",
       "TV                       3.236360      3.289800  \n",
       "RADIO                    4.344603      4.048828  \n",
       "NEWSPAPER                5.277800      4.541492  \n",
       "TV+RADIO                 1.710717      1.582124  \n",
       "TV+NEWSPAPER             3.115574      3.095161  \n",
       "RADIO+NEWSPAPER          4.343775      4.044705  \n",
       "TV+RADIO+NEWSPAPER       1.710405      1.582532  "
      ]
     },
     "execution_count": 79,
     "metadata": {},
     "output_type": "execute_result"
    }
   ],
   "source": [
    "final_data = pd.DataFrame(data,index=['TV','RADIO','NEWSPAPER','TV+RADIO','TV+NEWSPAPER','RADIO+NEWSPAPER','TV+RADIO+NEWSPAPER'])\n",
    "final_data"
   ]
  },
  {
   "cell_type": "code",
   "execution_count": 90,
   "id": "530ab3ff",
   "metadata": {},
   "outputs": [
    {
     "data": {
      "image/png": "[encoded data removed]",
      "text/plain": [
       "<Figure size 1080x432 with 1 Axes>"
      ]
     },
     "metadata": {
      "needs_background": "light"
     },
     "output_type": "display_data"
    }
   ],
   "source": [
    "# R-SQUARE TRAINING\n",
    "fig = plt.figure(figsize=(15,6))\n",
    "sns.barplot(data=final_data,x=final_data.index,y=final_data['R-SQUARE TRAINING'])\n",
    "plt.tight_layout()"
   ]
  },
  {
   "cell_type": "code",
   "execution_count": 91,
   "id": "8f4eaeff",
   "metadata": {},
   "outputs": [
    {
     "data": {
      "image/png": "[encoded data removed]",
      "text/plain": [
       "<Figure size 1080x432 with 1 Axes>"
      ]
     },
     "metadata": {
      "needs_background": "light"
     },
     "output_type": "display_data"
    }
   ],
   "source": [
    "# R-SQUARE TESTING\n",
    "fig = plt.figure(figsize=(15,6))\n",
    "sns.barplot(data=final_data,x=final_data.index,y=final_data['R-SQUARE TESTING'])\n",
    "plt.tight_layout()"
   ]
  },
  {
   "cell_type": "code",
   "execution_count": 95,
   "id": "c52780af",
   "metadata": {},
   "outputs": [
    {
     "data": {
      "image/png": "[encoded data removed]",
      "text/plain": [
       "<Figure size 1080x432 with 1 Axes>"
      ]
     },
     "metadata": {
      "needs_background": "light"
     },
     "output_type": "display_data"
    }
   ],
   "source": [
    "#ADJUSTED R-SQUARE TRAINING\n",
    "fig = plt.figure(figsize=(15,6))\n",
    "sns.barplot(data=final_data,x=final_data.index,y=final_data['ADJUSTED R-SQUARE TRAINING'])\n",
    "plt.tight_layout()\n"
   ]
  },
  {
   "cell_type": "code",
   "execution_count": 96,
   "id": "420b3063",
   "metadata": {},
   "outputs": [
    {
     "data": {
      "image/png": "[encoded data removed]",
      "text/plain": [
       "<Figure size 1080x432 with 1 Axes>"
      ]
     },
     "metadata": {
      "needs_background": "light"
     },
     "output_type": "display_data"
    }
   ],
   "source": [
    "#ADJUSTED R-SQUARE TESTING\n",
    "fig = plt.figure(figsize=(15,6))\n",
    "sns.barplot(data=final_data,x=final_data.index,y=final_data['ADJUSTED R-SQUARE TESTING'])\n",
    "plt.tight_layout()\n"
   ]
  },
  {
   "cell_type": "code",
   "execution_count": 97,
   "id": "c58a9c9d",
   "metadata": {},
   "outputs": [
    {
     "data": {
      "image/png": "[encoded data removed]",
      "text/plain": [
       "<Figure size 1080x432 with 1 Axes>"
      ]
     },
     "metadata": {
      "needs_background": "light"
     },
     "output_type": "display_data"
    }
   ],
   "source": [
    "#RMSE TRAINING\n",
    "fig = plt.figure(figsize=(15,6))\n",
    "sns.barplot(data=final_data,x=final_data.index,y=final_data['RMSE TRAINING'])\n",
    "plt.tight_layout()"
   ]
  },
  {
   "cell_type": "code",
   "execution_count": 98,
   "id": "2af39e08",
   "metadata": {},
   "outputs": [
    {
     "data": {
      "image/png": "[encoded data removed]",
      "text/plain": [
       "<Figure size 1080x432 with 1 Axes>"
      ]
     },
     "metadata": {
      "needs_background": "light"
     },
     "output_type": "display_data"
    }
   ],
   "source": [
    "#RMSE TESTING\n",
    "fig = plt.figure(figsize=(15,6))\n",
    "sns.barplot(data=final_data,x=final_data.index,y=final_data['RMSE TESTING'])\n",
    "plt.tight_layout()"
   ]
  },
  {
   "cell_type": "code",
   "execution_count": null,
   "id": "55d4dbff",
   "metadata": {},
   "outputs": [],
   "source": []
  },
  {
   "cell_type": "code",
   "execution_count": null,
   "id": "a2a619cd",
   "metadata": {},
   "outputs": [],
   "source": []
  }
 ],
 "metadata": {
  "kernelspec": {
   "display_name": "Python 3 (ipykernel)",
   "language": "python",
   "name": "python3"
  },
  "language_info": {
   "codemirror_mode": {
    "name": "ipython",
    "version": 3
   },
   "file_extension": ".py",
   "mimetype": "text/x-python",
   "name": "python",
   "nbconvert_exporter": "python",
   "pygments_lexer": "ipython3",
   "version": "3.9.12"
  }
 },
 "nbformat": 4,
 "nbformat_minor": 5
}
